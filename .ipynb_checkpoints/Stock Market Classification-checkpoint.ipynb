{
 "cells": [
  {
   "cell_type": "markdown",
   "metadata": {},
   "source": [
    "# Train a Model to Trade on the Stock Market\n",
    "\n",
    "![](https://www.xm.com/wp-content/uploads/2017/09/Stock-Charts-1.jpg)\n",
    "\n",
    "## Efficient Market Hypothesis\n",
    "\n",
    "Future prices cannot be predicted by analyzing prices from the past. Excess returns cannot be earned in the long run by using investment strategies based on historical share prices or other historical data. Technical analysis techniques will not be able to consistently produce excess returns.\n",
    "\n",
    " \n",
    "\n",
    "## Technical Analysis\n",
    "\n",
    "\n",
    "In finance, technical analysis is an analysis methodology for forecasting the direction of prices through the study of past market data, primarily price and volume. The efficacy of technical  analysis is disputed by the efficient-market hypothesis which states that stock market prices are essentially unpredictable.\n",
    "\n",
    " \n",
    "\n",
    "## Can a neural net learn Technical Analysis techniques to predict the market and make good trades?\n",
    "\n",
    "Are we about to get rich?"
   ]
  },
  {
   "cell_type": "code",
   "execution_count": 9,
   "metadata": {},
   "outputs": [],
   "source": [
    "from alpha_vantage.techindicators import TechIndicators\n",
    "from alpha_vantage.timeseries import TimeSeries\n",
    "import random\n",
    "from indicators import *\n",
    "from transform import *\n",
    "import pandas_datareader as web\n",
    "import pandas as pd\n",
    "from sklearn import preprocessing\n",
    "from sklearn.preprocessing import MinMaxScaler\n",
    "import h2o\n",
    "import plotly.plotly as py\n",
    "import plotly.graph_objs as go\n",
    "from plotly.graph_objs import *\n",
    "from plotly.tools import FigureFactory as FF\n",
    "import cufflinks as cf\n",
    "from plots import *\n",
    "import numpy as np\n",
    "import operator\n",
    "import math\n",
    "\n",
    "# Suppress unwatned warnings\n",
    "import warnings\n",
    "warnings.filterwarnings('ignore')\n",
    "import logging\n",
    "logging.getLogger(\"requests\").setLevel(logging.WARNING)\n",
    "\n",
    "# Set some defaults for how pandas displays\n",
    "pd.set_option('display.height', 1000)\n",
    "pd.set_option('display.max_rows', 50)\n",
    "pd.set_option('display.max_columns', 500)\n",
    "pd.set_option('display.width', 1000)"
   ]
  },
  {
   "cell_type": "markdown",
   "metadata": {},
   "source": [
    "### Enter These Variables"
   ]
  },
  {
   "cell_type": "code",
   "execution_count": 10,
   "metadata": {},
   "outputs": [],
   "source": [
    "stockSymbol = \"TTM\"\n",
    "market = \"NASDAQ\"\n",
    "invest = 10000\n",
    "window = 23\n",
    "start_date = pd.datetime(2013,1,1)\n",
    "split_validation = pd.datetime(2017,1,1)\n",
    "split_test = pd.datetime(2017,10,1)"
   ]
  },
  {
   "cell_type": "markdown",
   "metadata": {},
   "source": [
    "### Let's use a machine learning library called H2O"
   ]
  },
  {
   "cell_type": "code",
   "execution_count": 11,
   "metadata": {},
   "outputs": [],
   "source": [
    "#h2o.cluster().shutdown()"
   ]
  },
  {
   "cell_type": "code",
   "execution_count": 12,
   "metadata": {
    "scrolled": true
   },
   "outputs": [
    {
     "name": "stdout",
     "output_type": "stream",
     "text": [
      "Checking whether there is an H2O instance running at http://localhost:54321. connected.\n"
     ]
    },
    {
     "data": {
      "text/html": [
       "<div style=\"overflow:auto\"><table style=\"width:50%\"><tr><td>H2O cluster uptime:</td>\n",
       "<td>5 hours 58 mins</td></tr>\n",
       "<tr><td>H2O cluster timezone:</td>\n",
       "<td>America/Toronto</td></tr>\n",
       "<tr><td>H2O data parsing timezone:</td>\n",
       "<td>UTC</td></tr>\n",
       "<tr><td>H2O cluster version:</td>\n",
       "<td>3.18.0.8</td></tr>\n",
       "<tr><td>H2O cluster version age:</td>\n",
       "<td>9 days </td></tr>\n",
       "<tr><td>H2O cluster name:</td>\n",
       "<td>H2O_from_python_brett_08igme</td></tr>\n",
       "<tr><td>H2O cluster total nodes:</td>\n",
       "<td>1</td></tr>\n",
       "<tr><td>H2O cluster free memory:</td>\n",
       "<td>10.66 Gb</td></tr>\n",
       "<tr><td>H2O cluster total cores:</td>\n",
       "<td>8</td></tr>\n",
       "<tr><td>H2O cluster allowed cores:</td>\n",
       "<td>8</td></tr>\n",
       "<tr><td>H2O cluster status:</td>\n",
       "<td>locked, healthy</td></tr>\n",
       "<tr><td>H2O connection url:</td>\n",
       "<td>http://localhost:54321</td></tr>\n",
       "<tr><td>H2O connection proxy:</td>\n",
       "<td>None</td></tr>\n",
       "<tr><td>H2O internal security:</td>\n",
       "<td>False</td></tr>\n",
       "<tr><td>H2O API Extensions:</td>\n",
       "<td>XGBoost, Algos, AutoML, Core V3, Core V4</td></tr>\n",
       "<tr><td>Python version:</td>\n",
       "<td>2.7.12 final</td></tr></table></div>"
      ],
      "text/plain": [
       "--------------------------  ----------------------------------------\n",
       "H2O cluster uptime:         5 hours 58 mins\n",
       "H2O cluster timezone:       America/Toronto\n",
       "H2O data parsing timezone:  UTC\n",
       "H2O cluster version:        3.18.0.8\n",
       "H2O cluster version age:    9 days\n",
       "H2O cluster name:           H2O_from_python_brett_08igme\n",
       "H2O cluster total nodes:    1\n",
       "H2O cluster free memory:    10.66 Gb\n",
       "H2O cluster total cores:    8\n",
       "H2O cluster allowed cores:  8\n",
       "H2O cluster status:         locked, healthy\n",
       "H2O connection url:         http://localhost:54321\n",
       "H2O connection proxy:\n",
       "H2O internal security:      False\n",
       "H2O API Extensions:         XGBoost, Algos, AutoML, Core V3, Core V4\n",
       "Python version:             2.7.12 final\n",
       "--------------------------  ----------------------------------------"
      ]
     },
     "metadata": {},
     "output_type": "display_data"
    }
   ],
   "source": [
    "h2o.init(max_mem_size=\"12G\")\n",
    "h2o.remove_all()"
   ]
  },
  {
   "cell_type": "markdown",
   "metadata": {},
   "source": [
    "### Connect to Morningstar and Download the Historical Data  "
   ]
  },
  {
   "cell_type": "code",
   "execution_count": 13,
   "metadata": {},
   "outputs": [],
   "source": [
    "df = web.DataReader(stockSymbol, 'morningstar', start=start_date)\n",
    "df = df.reset_index(drop=False)\n",
    "df = df.drop('Symbol', axis=1)\n",
    "df.set_index('Date', inplace=True)\n",
    "df = df[['Open','High', 'Low', 'Close','Volume']]\n"
   ]
  },
  {
   "cell_type": "markdown",
   "metadata": {},
   "source": [
    "### Plot.ly is a Sweet Charting Library"
   ]
  },
  {
   "cell_type": "code",
   "execution_count": 14,
   "metadata": {},
   "outputs": [
    {
     "name": "stdout",
     "output_type": "stream",
     "text": [
      "The draw time for this plot will be slow for clients without much RAM.\n"
     ]
    },
    {
     "data": {
      "text/html": [
       "<iframe id=\"igraph\" scrolling=\"no\" style=\"border:none;\" seamless=\"seamless\" src=\"https://plot.ly/~bretto777/3675.embed\" height=\"525px\" width=\"100%\"></iframe>"
      ],
      "text/plain": [
       "<plotly.tools.PlotlyDisplay object>"
      ]
     },
     "execution_count": 14,
     "metadata": {},
     "output_type": "execute_result"
    }
   ],
   "source": [
    "myPlotlyKey = 'conh5EnFad0Z9Lz6mVWr'\n",
    "py.sign_in(username='bretto777',api_key=myPlotlyKey)\n",
    "\n",
    "fig = simpleStockChart(df,stockSymbol,split_validation,split_test)\n",
    "py.iplot(fig, validate=False)"
   ]
  },
  {
   "cell_type": "markdown",
   "metadata": {},
   "source": [
    "### Technical Analysis\n",
    "Add technical analysis indicators used by the pros! Hopefully our model will learn how these indicators can predict tomorrow's price movements."
   ]
  },
  {
   "cell_type": "code",
   "execution_count": 15,
   "metadata": {
    "scrolled": false
   },
   "outputs": [],
   "source": [
    "%%capture\n",
    "df.reset_index(drop=False, inplace=True, col_level=0)\n",
    "\n",
    "typical_price(df, high_col = 'High', low_col = 'Low', close_col = 'Close')\n",
    "money_flow_index(df, vol_col='Volume')\n",
    "rsi(df, close_col='Close')\n",
    "ema(df, period=26, column='Close')\n",
    "ema(df, period=12, column='Close')\n",
    "macd(df, period_long=26, period_short=12, period_signal=9, column='Close')\n",
    "on_balance_volume(df, trend_periods=21, close_col='Close', vol_col='Volume')\n",
    "price_volume_trend(df, trend_periods=21, close_col='Close', vol_col='Volume')\n",
    "bollinger_bands(df, trend_periods=20, close_col='Close')"
   ]
  },
  {
   "cell_type": "code",
   "execution_count": 16,
   "metadata": {
    "scrolled": false
   },
   "outputs": [
    {
     "data": {
      "text/html": [
       "<iframe id=\"igraph\" scrolling=\"no\" style=\"border:none;\" seamless=\"seamless\" src=\"https://plot.ly/~bretto777/3677.embed\" height=\"525px\" width=\"100%\"></iframe>"
      ],
      "text/plain": [
       "<plotly.tools.PlotlyDisplay object>"
      ]
     },
     "execution_count": 16,
     "metadata": {},
     "output_type": "execute_result"
    }
   ],
   "source": [
    "fig = technicalAnalysisChart(df)\n",
    "py.iplot(fig, validate=False)"
   ]
  },
  {
   "cell_type": "code",
   "execution_count": 17,
   "metadata": {
    "scrolled": false
   },
   "outputs": [
    {
     "ename": "NameError",
     "evalue": "global name 'window' is not defined",
     "output_type": "error",
     "traceback": [
      "\u001b[0;31m---------------------------------------------------------------------------\u001b[0m",
      "\u001b[0;31mNameError\u001b[0m                                 Traceback (most recent call last)",
      "\u001b[0;32m<ipython-input-17-2af72a6a9631>\u001b[0m in \u001b[0;36m<module>\u001b[0;34m()\u001b[0m\n\u001b[0;32m----> 1\u001b[0;31m \u001b[0mwindowTransform\u001b[0m\u001b[0;34m(\u001b[0m\u001b[0mdf\u001b[0m\u001b[0;34m)\u001b[0m\u001b[0;34m\u001b[0m\u001b[0m\n\u001b[0m",
      "\u001b[0;32m/home/brett/ticker/transform.pyc\u001b[0m in \u001b[0;36mwindowTransform\u001b[0;34m(df)\u001b[0m\n\u001b[1;32m     10\u001b[0m     \u001b[0;31m#Open window\u001b[0m\u001b[0;34m\u001b[0m\u001b[0;34m\u001b[0m\u001b[0m\n\u001b[1;32m     11\u001b[0m     \u001b[0mdf\u001b[0m\u001b[0;34m[\u001b[0m\u001b[0;34m'Open-0'\u001b[0m\u001b[0;34m]\u001b[0m \u001b[0;34m=\u001b[0m \u001b[0mdf\u001b[0m\u001b[0;34m.\u001b[0m\u001b[0mOpen\u001b[0m\u001b[0;34m\u001b[0m\u001b[0m\n\u001b[0;32m---> 12\u001b[0;31m     \u001b[0;32mfor\u001b[0m \u001b[0mi\u001b[0m \u001b[0;32min\u001b[0m \u001b[0mrange\u001b[0m\u001b[0;34m(\u001b[0m\u001b[0;36m1\u001b[0m\u001b[0;34m,\u001b[0m\u001b[0mwindow\u001b[0m\u001b[0;34m)\u001b[0m\u001b[0;34m:\u001b[0m\u001b[0;34m\u001b[0m\u001b[0m\n\u001b[0m\u001b[1;32m     13\u001b[0m         \u001b[0mdf\u001b[0m\u001b[0;34m[\u001b[0m\u001b[0;34m'Open-'\u001b[0m\u001b[0;34m+\u001b[0m\u001b[0mstr\u001b[0m\u001b[0;34m(\u001b[0m\u001b[0mi\u001b[0m\u001b[0;34m)\u001b[0m\u001b[0;34m]\u001b[0m \u001b[0;34m=\u001b[0m \u001b[0mdf\u001b[0m\u001b[0;34m.\u001b[0m\u001b[0mClose\u001b[0m\u001b[0;34m.\u001b[0m\u001b[0mshift\u001b[0m\u001b[0;34m(\u001b[0m\u001b[0mi\u001b[0m\u001b[0;34m)\u001b[0m\u001b[0;34m\u001b[0m\u001b[0m\n\u001b[1;32m     14\u001b[0m         \u001b[0mdf\u001b[0m\u001b[0;34m[\u001b[0m\u001b[0;34m'Open Change-'\u001b[0m\u001b[0;34m+\u001b[0m\u001b[0mstr\u001b[0m\u001b[0;34m(\u001b[0m\u001b[0mi\u001b[0m\u001b[0;34m-\u001b[0m\u001b[0;36m1\u001b[0m\u001b[0;34m)\u001b[0m\u001b[0;34m]\u001b[0m \u001b[0;34m=\u001b[0m \u001b[0mdf\u001b[0m\u001b[0;34m[\u001b[0m\u001b[0;34m'Open-'\u001b[0m\u001b[0;34m+\u001b[0m\u001b[0mstr\u001b[0m\u001b[0;34m(\u001b[0m\u001b[0mi\u001b[0m\u001b[0;34m-\u001b[0m\u001b[0;36m1\u001b[0m\u001b[0;34m)\u001b[0m\u001b[0;34m]\u001b[0m \u001b[0;34m-\u001b[0m \u001b[0mdf\u001b[0m\u001b[0;34m[\u001b[0m\u001b[0;34m'Open-'\u001b[0m\u001b[0;34m+\u001b[0m\u001b[0mstr\u001b[0m\u001b[0;34m(\u001b[0m\u001b[0mi\u001b[0m\u001b[0;34m)\u001b[0m\u001b[0;34m]\u001b[0m\u001b[0;34m\u001b[0m\u001b[0m\n",
      "\u001b[0;31mNameError\u001b[0m: global name 'window' is not defined"
     ]
    }
   ],
   "source": [
    "%%capture\n",
    "windowTransform(df, window)"
   ]
  },
  {
   "cell_type": "code",
   "execution_count": null,
   "metadata": {},
   "outputs": [],
   "source": [
    "trainingDF = df.loc[df['Date'] <= split_validation]\n",
    "validationDF = df[df['Date'].isin(pd.date_range(split_validation,split_test))]\n",
    "testDF = df.loc[df['Date'] > split_test]\n",
    "\n",
    "trainingDF = trainingDF.dropna(axis=0, how='any')\n",
    "validationDF = validationDF.dropna(axis=0, how='any')\n",
    "testDF = testDF.fillna(value=0)\n",
    "\n",
    "trainingDF.set_index('Date', inplace=True)\n",
    "validationDF.set_index('Date', inplace=True)\n",
    "testDF.set_index('Date', inplace=True)"
   ]
  },
  {
   "cell_type": "code",
   "execution_count": null,
   "metadata": {},
   "outputs": [],
   "source": [
    "train = h2o.H2OFrame(trainingDF, destination_frame=\"train.hex\")\n",
    "valid = h2o.H2OFrame(validationDF, destination_frame=\"valid.hex\")\n",
    "test = h2o.H2OFrame(testDF, destination_frame=\"test.hex\")\n",
    "\n",
    "train['Close Tomorrow s'] = train['Close Tomorrow s'].asfactor()\n",
    "valid['Close Tomorrow s'] = valid['Close Tomorrow s'].asfactor()\n",
    "test['Close Tomorrow s'] = test['Close Tomorrow s'].asfactor()\n",
    "\n",
    "# Set predictor and response variables\n",
    "y = \"Close Tomorrow s\"\n",
    "x = train.columns\n",
    "x.remove(y)"
   ]
  },
  {
   "cell_type": "markdown",
   "metadata": {},
   "source": [
    "### Train the Deep Neural Net\n",
    "Grid search for a good model"
   ]
  },
  {
   "cell_type": "code",
   "execution_count": null,
   "metadata": {},
   "outputs": [],
   "source": [
    "from h2o.estimators.deeplearning import H2ODeepLearningEstimator\n",
    "from h2o.grid.grid_search import H2OGridSearch\n",
    "\n",
    "hidden_opt = [[25,25,25,25,25],\n",
    "              [50,75,75,50],\n",
    "              [75,100,100,75],\n",
    "              [50,300,300,50],\n",
    "              [10,10,100,10,10],\n",
    "              [1000,1000],\n",
    "              [50,50,50]]\n",
    "l1_opt = [0.001,0.0001,0.00001]\n",
    "l2_opt = [0.001,0.0001]\n",
    "rate_opt= [0.01,0.001,0.0001]\n",
    "activation_opt=[\"Rectifier\",\"TanhWithDropout\"]\n",
    "epochs_opt=[3500,2500]\n",
    "\n",
    "hyper_parameters = {\"hidden\":hidden_opt, \n",
    "                    \"l1\":l1_opt, \n",
    "                    \"l2\":l2_opt,\n",
    "                    \"rate\":rate_opt, \n",
    "                    \"activation\":activation_opt,\n",
    "                    \"epochs\":epochs_opt}\n",
    "\n",
    "search_criteria = {\"strategy\":\"RandomDiscrete\", \"max_models\":5, \"seed\":123456}\n",
    "\n",
    "\n",
    "\n",
    "model_grid = H2OGridSearch(H2ODeepLearningEstimator(),\n",
    "                           hyper_params=hyper_parameters,\n",
    "                           search_criteria=search_criteria,\n",
    "                           grid_id='test8')\n",
    "model_grid.train(x=x, \n",
    "                 y=y,                                   \n",
    "                 fast_mode=True,                   \n",
    "                 stopping_rounds=10, \n",
    "                 stopping_tolerance=0,\n",
    "                 stopping_metric='AUC',\n",
    "                 adaptive_rate=True,                \n",
    "                 training_frame=train, \n",
    "                 validation_frame=valid,\n",
    "                 score_interval=10)"
   ]
  },
  {
   "cell_type": "code",
   "execution_count": null,
   "metadata": {},
   "outputs": [],
   "source": [
    "model_gridperf1 = model_grid.get_grid(sort_by='AUC', decreasing=False)\n",
    "bestModel = model_gridperf1[0]          \n",
    "#h2o.save_model(model=bestModel, path=\"/home/brett/\")\n"
   ]
  },
  {
   "cell_type": "code",
   "execution_count": null,
   "metadata": {},
   "outputs": [],
   "source": [
    "#bestModel = h2o.load_model(path=\"/home/brett/ticker/h2ogbm.h2o\")"
   ]
  },
  {
   "cell_type": "code",
   "execution_count": null,
   "metadata": {},
   "outputs": [],
   "source": [
    "importances = bestModel.varimp(use_pandas=True)\n",
    "importances = importances.loc[:,['variable','relative_importance']].groupby('variable').mean()\n",
    "importances.sort_values(by=\"relative_importance\", ascending=False).iplot(kind='bar', colors='#5AC4F2', theme='white')"
   ]
  },
  {
   "cell_type": "code",
   "execution_count": null,
   "metadata": {},
   "outputs": [],
   "source": [
    "cm = bestModel.confusion_matrix(valid)\n",
    "cm = cm.as_data_frame()\n",
    "confusionMatrix = FF.create_table(cm)\n",
    "confusionMatrix.layout.height=300\n",
    "confusionMatrix.layout.width=800\n",
    "confusionMatrix.layout.font.size=17\n",
    "py.iplot(confusionMatrix)"
   ]
  },
  {
   "cell_type": "code",
   "execution_count": null,
   "metadata": {
    "scrolled": false
   },
   "outputs": [],
   "source": [
    "pBestModel = pd.concat([bestModel.predict(test_data=test).as_data_frame(use_pandas=True).reset_index(drop=True), testDF.reset_index(drop=False)], axis =1)\n"
   ]
  },
  {
   "cell_type": "code",
   "execution_count": null,
   "metadata": {
    "scrolled": false
   },
   "outputs": [],
   "source": [
    "prices = df.loc[df['Date'] > split_test]\n",
    "prices = prices.loc[:,['Date','Close','Close Tomorrow','Close Tomorrow s']]\n",
    "profit = pBestModel.loc[:,['predict']]\n",
    "profit = pd.concat([prices.reset_index(drop=True), profit.reset_index(drop=True)], axis =1)\n",
    "profit['predict'] = profit['predict'].astype(np.float64)\n",
    "\n",
    "profit['profit'] = invest\n",
    "\n",
    "profit['Best Possible'] = profit.apply(lambda row: ((row['profit'] / row['Close'])*row['Close Tomorrow'])-row['profit'] if row['Close Tomorrow s'] > 0 else 0, axis=1)\n",
    "\n",
    "profit['Randomly Invest'] = profit.apply(lambda row: ((row['profit'] / row['Close'])*row['Close Tomorrow'])-row['profit'] if random.randint(1,1000) > random.randint(1,1000) else 0, axis=1)\n",
    "profit['profit'] = profit.apply(lambda row: ((row['profit'] / row['Close'])*row['Close Tomorrow'])-row['profit'] if row['predict'] > 0 else 0, axis=1)\n",
    "\n",
    "\n",
    "print \"Times \" + stockSymbol + \" actually went up    : \" + str(profit[profit['Close Tomorrow s']>0].count()['Close Tomorrow s'])\n",
    "print \"Times \" + stockSymbol + \" predicted to go up  : \" + str(profit[profit['predict']>0].count()['predict'])\n",
    "print \"Profit                        : $\" + str(profit.profit.sum())\n",
    "print \"Random investment             : $\" + str(profit['Randomly Invest'].sum())\n",
    "print \"Best possible outcome         : $\" + str(profit['Best Possible'].sum())\n",
    "\n",
    "profit\n",
    "\n"
   ]
  },
  {
   "cell_type": "code",
   "execution_count": null,
   "metadata": {},
   "outputs": [],
   "source": []
  }
 ],
 "metadata": {
  "kernelspec": {
   "display_name": "Python 2",
   "language": "python",
   "name": "python2"
  },
  "language_info": {
   "codemirror_mode": {
    "name": "ipython",
    "version": 2
   },
   "file_extension": ".py",
   "mimetype": "text/x-python",
   "name": "python",
   "nbconvert_exporter": "python",
   "pygments_lexer": "ipython2",
   "version": "2.7.12"
  }
 },
 "nbformat": 4,
 "nbformat_minor": 2
}
