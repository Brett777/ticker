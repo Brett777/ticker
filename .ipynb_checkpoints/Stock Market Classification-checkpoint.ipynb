{
 "cells": [
  {
   "cell_type": "markdown",
   "metadata": {},
   "source": [
    "# Train a Model to Trade on the Stock Market\n",
    "\n",
    "![](https://www.xm.com/wp-content/uploads/2017/09/Stock-Charts-1.jpg)\n",
    "\n",
    "## Efficient Market Hypothesis\n",
    "\n",
    "Future prices cannot be predicted by analyzing prices from the past. Excess returns cannot be earned in the long run by using investment strategies based on historical share prices or other historical data. Technical analysis techniques will not be able to consistently produce excess returns.\n",
    "\n",
    " \n",
    "\n",
    "## Technical Analysis\n",
    "\n",
    "\n",
    "In finance, technical analysis is an analysis methodology for forecasting the direction of prices through the study of past market data, primarily price and volume. The efficacy of technical  analysis is disputed by the efficient-market hypothesis which states that stock market prices are essentially unpredictable.\n",
    "\n",
    " \n",
    "\n",
    "## Can a neural net learn Technical Analysis techniques to predict the market and make good trades?\n",
    "\n",
    "Are we about to get rich?"
   ]
  },
  {
   "cell_type": "code",
   "execution_count": 1,
   "metadata": {},
   "outputs": [],
   "source": [
    "import random\n",
    "from indicators import *\n",
    "from transform import *\n",
    "import pandas_profiling\n",
    "import pandas_datareader as web\n",
    "import pandas as pd\n",
    "from sklearn import preprocessing\n",
    "from sklearn.preprocessing import MinMaxScaler\n",
    "import h2o\n",
    "import plotly.plotly as py\n",
    "import plotly.graph_objs as go\n",
    "from plotly.graph_objs import *\n",
    "from plotly.tools import FigureFactory as FF\n",
    "import cufflinks as cf\n",
    "from plots import *\n",
    "import numpy as np\n",
    "import operator\n",
    "\n",
    "# Suppress unwatned warnings\n",
    "import warnings\n",
    "warnings.filterwarnings('ignore')\n",
    "import logging\n",
    "logging.getLogger(\"requests\").setLevel(logging.WARNING)\n",
    "\n",
    "# Set some defaults for how pandas displays\n",
    "pd.set_option('display.height', 1000)\n",
    "pd.set_option('display.max_rows', 50)\n",
    "pd.set_option('display.max_columns', 500)\n",
    "pd.set_option('display.width', 1000)"
   ]
  },
  {
   "cell_type": "markdown",
   "metadata": {},
   "source": [
    "### Enter These Variables"
   ]
  },
  {
   "cell_type": "code",
   "execution_count": 2,
   "metadata": {},
   "outputs": [],
   "source": [
    "stockSymbol = \"MSFT\"\n",
    "market = \"NASDAQ\"\n",
    "invest = 10000\n",
    "\n",
    "start_date = pd.datetime(2013,1,1)\n",
    "split_validation = pd.datetime(2018,1,1)\n",
    "split_test = pd.datetime(2018,4,1)"
   ]
  },
  {
   "cell_type": "markdown",
   "metadata": {},
   "source": [
    "### Let's use a machine learning library called H2O"
   ]
  },
  {
   "cell_type": "code",
   "execution_count": 3,
   "metadata": {},
   "outputs": [],
   "source": [
    "#h2o.cluster().shutdown()"
   ]
  },
  {
   "cell_type": "code",
   "execution_count": 4,
   "metadata": {},
   "outputs": [
    {
     "name": "stdout",
     "output_type": "stream",
     "text": [
      "Checking whether there is an H2O instance running at http://localhost:54321..... not found.\n",
      "Attempting to start a local H2O server...\n",
      "  Java Version: openjdk version \"1.8.0_162\"; OpenJDK Runtime Environment (build 1.8.0_162-8u162-b12-0ubuntu0.16.04.2-b12); OpenJDK 64-Bit Server VM (build 25.162-b12, mixed mode)\n",
      "  Starting server from /home/olmsteadbrett/.local/lib/python2.7/site-packages/h2o/backend/bin/h2o.jar\n",
      "  Ice root: /tmp/tmpPf72Aq\n",
      "  JVM stdout: /tmp/tmpPf72Aq/h2o_olmsteadbrett_started_from_python.out\n",
      "  JVM stderr: /tmp/tmpPf72Aq/h2o_olmsteadbrett_started_from_python.err\n",
      "  Server is running at http://127.0.0.1:54321\n",
      "Connecting to H2O server at http://127.0.0.1:54321... successful.\n"
     ]
    },
    {
     "data": {
      "text/html": [
       "<div style=\"overflow:auto\"><table style=\"width:50%\"><tr><td>H2O cluster uptime:</td>\n",
       "<td>06 secs</td></tr>\n",
       "<tr><td>H2O cluster timezone:</td>\n",
       "<td>Etc/UTC</td></tr>\n",
       "<tr><td>H2O data parsing timezone:</td>\n",
       "<td>UTC</td></tr>\n",
       "<tr><td>H2O cluster version:</td>\n",
       "<td>3.18.0.7</td></tr>\n",
       "<tr><td>H2O cluster version age:</td>\n",
       "<td>12 days </td></tr>\n",
       "<tr><td>H2O cluster name:</td>\n",
       "<td>H2O_from_python_olmsteadbrett_i81cul</td></tr>\n",
       "<tr><td>H2O cluster total nodes:</td>\n",
       "<td>1</td></tr>\n",
       "<tr><td>H2O cluster free memory:</td>\n",
       "<td>67.6 Gb</td></tr>\n",
       "<tr><td>H2O cluster total cores:</td>\n",
       "<td>96</td></tr>\n",
       "<tr><td>H2O cluster allowed cores:</td>\n",
       "<td>96</td></tr>\n",
       "<tr><td>H2O cluster status:</td>\n",
       "<td>accepting new members, healthy</td></tr>\n",
       "<tr><td>H2O connection url:</td>\n",
       "<td>http://127.0.0.1:54321</td></tr>\n",
       "<tr><td>H2O connection proxy:</td>\n",
       "<td>None</td></tr>\n",
       "<tr><td>H2O internal security:</td>\n",
       "<td>False</td></tr>\n",
       "<tr><td>H2O API Extensions:</td>\n",
       "<td>XGBoost, Algos, AutoML, Core V3, Core V4</td></tr>\n",
       "<tr><td>Python version:</td>\n",
       "<td>2.7.12 final</td></tr></table></div>"
      ],
      "text/plain": [
       "--------------------------  ----------------------------------------\n",
       "H2O cluster uptime:         06 secs\n",
       "H2O cluster timezone:       Etc/UTC\n",
       "H2O data parsing timezone:  UTC\n",
       "H2O cluster version:        3.18.0.7\n",
       "H2O cluster version age:    12 days\n",
       "H2O cluster name:           H2O_from_python_olmsteadbrett_i81cul\n",
       "H2O cluster total nodes:    1\n",
       "H2O cluster free memory:    67.6 Gb\n",
       "H2O cluster total cores:    96\n",
       "H2O cluster allowed cores:  96\n",
       "H2O cluster status:         accepting new members, healthy\n",
       "H2O connection url:         http://127.0.0.1:54321\n",
       "H2O connection proxy:\n",
       "H2O internal security:      False\n",
       "H2O API Extensions:         XGBoost, Algos, AutoML, Core V3, Core V4\n",
       "Python version:             2.7.12 final\n",
       "--------------------------  ----------------------------------------"
      ]
     },
     "metadata": {},
     "output_type": "display_data"
    }
   ],
   "source": [
    "h2o.init(max_mem_size=\"76G\")\n",
    "h2o.remove_all()"
   ]
  },
  {
   "cell_type": "markdown",
   "metadata": {},
   "source": [
    "### Connect to Morningstar and Download the Historical Data  "
   ]
  },
  {
   "cell_type": "code",
   "execution_count": 5,
   "metadata": {},
   "outputs": [],
   "source": [
    "df = web.DataReader(stockSymbol, 'morningstar', start=start_date)\n",
    "df = df.reset_index(drop=False)\n",
    "df = df.drop('Symbol', axis=1)\n",
    "df.set_index('Date', inplace=True)\n",
    "df = df[['Open','High', 'Low', 'Close','Volume']]\n"
   ]
  },
  {
   "cell_type": "markdown",
   "metadata": {},
   "source": [
    "### Plot.ly is a Sweet Charting Library"
   ]
  },
  {
   "cell_type": "code",
   "execution_count": 6,
   "metadata": {},
   "outputs": [
    {
     "name": "stdout",
     "output_type": "stream",
     "text": [
      "The draw time for this plot will be slow for clients without much RAM.\n"
     ]
    },
    {
     "data": {
      "text/html": [
       "<iframe id=\"igraph\" scrolling=\"no\" style=\"border:none;\" seamless=\"seamless\" src=\"https://plot.ly/~bretto777/3607.embed\" height=\"525px\" width=\"100%\"></iframe>"
      ],
      "text/plain": [
       "<plotly.tools.PlotlyDisplay object>"
      ]
     },
     "execution_count": 6,
     "metadata": {},
     "output_type": "execute_result"
    }
   ],
   "source": [
    "myPlotlyKey = 'conh5EnFad0Z9Lz6mVWr'\n",
    "py.sign_in(username='bretto777',api_key=myPlotlyKey)\n",
    "\n",
    "fig = simpleStockChart(df,stockSymbol,split_validation,split_test)\n",
    "py.iplot(fig, validate=False)"
   ]
  },
  {
   "cell_type": "markdown",
   "metadata": {},
   "source": [
    "### Technical Analysis\n",
    "Add technical analysis indicators used by the pros! Hopefully our model will learn how these indicators can predict tomorrow's price movements."
   ]
  },
  {
   "cell_type": "code",
   "execution_count": 7,
   "metadata": {
    "scrolled": false
   },
   "outputs": [],
   "source": [
    "%%capture\n",
    "df.reset_index(drop=False, inplace=True, col_level=0)\n",
    "\n",
    "typical_price(df, high_col = 'High', low_col = 'Low', close_col = 'Close')\n",
    "money_flow_index(df, vol_col='Volume')\n",
    "rsi(df, close_col='Close')\n",
    "ema(df, period=26, column='Close')\n",
    "ema(df, period=12, column='Close')\n",
    "macd(df, period_long=26, period_short=12, period_signal=9, column='Close')\n",
    "on_balance_volume(df, trend_periods=21, close_col='Close', vol_col='Volume')\n",
    "price_volume_trend(df, trend_periods=21, close_col='Close', vol_col='Volume')\n",
    "bollinger_bands(df, trend_periods=20, close_col='Close')"
   ]
  },
  {
   "cell_type": "code",
   "execution_count": 8,
   "metadata": {
    "scrolled": false
   },
   "outputs": [
    {
     "data": {
      "text/html": [
       "<iframe id=\"igraph\" scrolling=\"no\" style=\"border:none;\" seamless=\"seamless\" src=\"https://plot.ly/~bretto777/3609.embed\" height=\"525px\" width=\"100%\"></iframe>"
      ],
      "text/plain": [
       "<plotly.tools.PlotlyDisplay object>"
      ]
     },
     "execution_count": 8,
     "metadata": {},
     "output_type": "execute_result"
    }
   ],
   "source": [
    "fig = technicalAnalysisChart(df)\n",
    "py.iplot(fig, validate=False)"
   ]
  },
  {
   "cell_type": "code",
   "execution_count": 9,
   "metadata": {
    "scrolled": false
   },
   "outputs": [],
   "source": [
    "%%capture\n",
    "windowTransform(df)"
   ]
  },
  {
   "cell_type": "code",
   "execution_count": 10,
   "metadata": {},
   "outputs": [],
   "source": [
    "classifyDF = df.loc[:,['Close Tomorrow s','Close','Close Change','Close Change s',\n",
    "                       'Close-1','Close-1 Change','Close-1 s',\n",
    "                       'Close-2','Close-2 Change','Close-2 s',\n",
    "                       'Close-3','Close-3 Change','Close-3 s',\n",
    "                       'Close-4','Close-4 Change','Close-4 s',\n",
    "                       'Close-5','Close-5 Change','Close-5 s',\n",
    "                       'Close-6','Close-6 Change','Close-6 s',\n",
    "                       'Close-7','Close-7 Change','Close-7 s',\n",
    "                       'Close-8','Close-8 Change','Close-8 s',\n",
    "                       'Close-9','Close-9 Change','Close-9 s',\n",
    "                       'Close-10','Close-10 Change','Close-10 s',\n",
    "                       'Close-11','Close-11 Change','Close-11 s',                       \n",
    "                       'Close-12','Close-12 Change','Close-12 s',\n",
    "                       'Close-13','Close-13 Change','Close-13 s',\n",
    "                       'Close-14','Close-14 Change','Close-14 s',\n",
    "                       'Close-15','Close-15 Change','Close-15 s',\n",
    "                       'Close-16','Close-16 Change','Close-16 s',\n",
    "                       'Close-17','Close-17 Change','Close-17 s',\n",
    "                       'Close-18','Close-18 Change','Close-18 s',\n",
    "                       'Close-19','Close-19 Change','Close-19 s',\n",
    "                       'Close-20','Close-20 Change','Close-20 s',\n",
    "                       'Close-21','Close-21 Change','Close-21 s',\n",
    "                       'Close-22','Close-22 Change','Close-22 s',\n",
    "                       'Close-23',\n",
    "                       'rsi','rsi-1','rsi Change',\n",
    "                       'macd_signal_line-1','macd_signal_line-2','macd_signal_line-3','macd_signal_line-4','macd_signal_line-5','macd_signal_line-6','macd_signal_line-7',\n",
    "                       'macd_val-1','macd_val-2','macd_val-3','macd_val-4','macd_val-5','macd_val-6','macd_val-7',\n",
    "                       'money_flow_index','money_flow_index-1','money_flow_index Change',\n",
    "                       'Volume','Volume-1',\n",
    "                       'Date',\n",
    "                       'DayOfWeek','DayOfYear','WeekOfYear',\n",
    "                       'High','High-1',\n",
    "                       'Low','Low-1',\n",
    "                       'Open','Open-1']]"
   ]
  },
  {
   "cell_type": "code",
   "execution_count": 11,
   "metadata": {},
   "outputs": [],
   "source": [
    "trainingDF = classifyDF.loc[classifyDF['Date'] <= split_validation]\n",
    "validationDF = classifyDF[classifyDF['Date'].isin(pd.date_range(split_validation,split_test))]\n",
    "testDF = classifyDF.loc[classifyDF['Date'] > split_test]\n",
    "\n",
    "trainingDF = trainingDF.dropna(axis=0, how='any')\n",
    "validationDF = validationDF.dropna(axis=0, how='any')\n",
    "testDF = testDF.fillna(value=0)\n",
    "\n",
    "trainingDF.set_index('Date', inplace=True)\n",
    "validationDF.set_index('Date', inplace=True)\n",
    "testDF.set_index('Date', inplace=True)"
   ]
  },
  {
   "cell_type": "code",
   "execution_count": 12,
   "metadata": {},
   "outputs": [],
   "source": [
    "#scaler = MinMaxScaler()\n",
    "#trainingDF = pd.DataFrame(scaler.fit_transform(trainingDF), columns=trainingDF.columns)\n",
    "#trainingDF['Close Tomorrow s'] = trainingDF['Close Tomorrow s'].astype('int')\n",
    "#validationDF = pd.DataFrame(scaler.fit_transform(validationDF), columns=validationDF.columns)\n",
    "#validationDF['Close Tomorrow s'] = validationDF['Close Tomorrow s'].astype('int')\n",
    "#testDF = pd.DataFrame(scaler.fit_transform(testDF), columns=testDF.columns)\n",
    "#testDF['Close Tomorrow s'] = testDF['Close Tomorrow s'].astype('int')"
   ]
  },
  {
   "cell_type": "code",
   "execution_count": 13,
   "metadata": {},
   "outputs": [
    {
     "name": "stdout",
     "output_type": "stream",
     "text": [
      "Parse progress: |█████████████████████████████████████████████████████████| 100%\n",
      "Parse progress: |█████████████████████████████████████████████████████████| 100%\n",
      "Parse progress: |█████████████████████████████████████████████████████████| 100%\n"
     ]
    }
   ],
   "source": [
    "train = h2o.H2OFrame(trainingDF, destination_frame=\"train.hex\")\n",
    "valid = h2o.H2OFrame(validationDF, destination_frame=\"valid.hex\")\n",
    "test = h2o.H2OFrame(testDF, destination_frame=\"test.hex\")\n",
    "\n",
    "train['Close Tomorrow s'] = train['Close Tomorrow s'].asfactor()\n",
    "valid['Close Tomorrow s'] = valid['Close Tomorrow s'].asfactor()\n",
    "test['Close Tomorrow s'] = test['Close Tomorrow s'].asfactor()\n",
    "\n",
    "# Set predictor and response variables\n",
    "y = \"Close Tomorrow s\"\n",
    "x = train.columns\n",
    "x.remove(y)"
   ]
  },
  {
   "cell_type": "markdown",
   "metadata": {},
   "source": [
    "### Train the Deep Neural Net\n",
    "Grid search for a good model"
   ]
  },
  {
   "cell_type": "code",
   "execution_count": 15,
   "metadata": {},
   "outputs": [
    {
     "name": "stdout",
     "output_type": "stream",
     "text": [
      "deeplearning Grid Build progress: |███████████████████████████████████████| 100%\n"
     ]
    }
   ],
   "source": [
    "from h2o.estimators.deeplearning import H2ODeepLearningEstimator\n",
    "from h2o.grid.grid_search import H2OGridSearch\n",
    "\n",
    "hidden_opt = [[25,25,25,25,25],\n",
    "              [50,75,75,50],\n",
    "              [75,100,100,75],\n",
    "              [50,300,300,50],\n",
    "              [10,10,100,10,10],\n",
    "              [1000,1000],\n",
    "              [50,50,50]]\n",
    "l1_opt = [0.001,0.0001,0.00001]\n",
    "l2_opt = [0.001,0.0001]\n",
    "rate_opt= [0.01,0.001,0.0001]\n",
    "activation_opt=[\"Rectifier\",\"TanhWithDropout\"]\n",
    "epochs_opt=[3500,2500]\n",
    "\n",
    "hyper_parameters = {\"hidden\":hidden_opt, \n",
    "                    \"l1\":l1_opt, \n",
    "                    \"l2\":l2_opt,\n",
    "                    \"rate\":rate_opt, \n",
    "                    \"activation\":activation_opt,\n",
    "                    \"epochs\":epochs_opt}\n",
    "\n",
    "search_criteria = {\"strategy\":\"RandomDiscrete\", \"max_models\":10, \"seed\":123456}\n",
    "\n",
    "\n",
    "\n",
    "model_grid = H2OGridSearch(H2ODeepLearningEstimator(),\n",
    "                           hyper_params=hyper_parameters,\n",
    "                           search_criteria=search_criteria,\n",
    "                           grid_id='test8')\n",
    "model_grid.train(x=x, \n",
    "                 y=y,                                   \n",
    "                 fast_mode=True,                   \n",
    "                 stopping_rounds=10, \n",
    "                 stopping_tolerance=0,\n",
    "                 stopping_metric='mean_per_class_error',\n",
    "                 adaptive_rate=True,                \n",
    "                 training_frame=train, \n",
    "                 validation_frame=valid,\n",
    "                 score_interval=10)"
   ]
  },
  {
   "cell_type": "code",
   "execution_count": 104,
   "metadata": {},
   "outputs": [
    {
     "data": {
      "text/plain": [
       "u'/home/olmsteadbrett/test8_model_1'"
      ]
     },
     "execution_count": 104,
     "metadata": {},
     "output_type": "execute_result"
    }
   ],
   "source": [
    "model_gridperf1 = model_grid.get_grid(sort_by='mean_per_class_error', decreasing=False)\n",
    "bestModel = model_gridperf1[0]          \n",
    "h2o.save_model(model=bestModel, path=\"/home/olmsteadbrett/\")\n"
   ]
  },
  {
   "cell_type": "code",
   "execution_count": 15,
   "metadata": {},
   "outputs": [],
   "source": [
    "bestModel = h2o.load_model(path=\"/home/olmsteadbrett/stocks/test8_model_1\")"
   ]
  },
  {
   "cell_type": "code",
   "execution_count": 16,
   "metadata": {},
   "outputs": [
    {
     "data": {
      "text/html": [
       "<iframe id=\"igraph\" scrolling=\"no\" style=\"border:none;\" seamless=\"seamless\" src=\"https://plot.ly/~bretto777/3611.embed\" height=\"525px\" width=\"100%\"></iframe>"
      ],
      "text/plain": [
       "<plotly.tools.PlotlyDisplay object>"
      ]
     },
     "execution_count": 16,
     "metadata": {},
     "output_type": "execute_result"
    }
   ],
   "source": [
    "importances = bestModel.varimp(use_pandas=True)\n",
    "importances = importances.loc[:,['variable','relative_importance']].groupby('variable').mean()\n",
    "importances.sort_values(by=\"relative_importance\", ascending=False).iplot(kind='bar', colors='#5AC4F2', theme='white')"
   ]
  },
  {
   "cell_type": "code",
   "execution_count": 17,
   "metadata": {},
   "outputs": [
    {
     "data": {
      "text/html": [
       "<iframe id=\"igraph\" scrolling=\"no\" style=\"border:none;\" seamless=\"seamless\" src=\"https://plot.ly/~bretto777/3613.embed\" height=\"300px\" width=\"800px\"></iframe>"
      ],
      "text/plain": [
       "<plotly.tools.PlotlyDisplay object>"
      ]
     },
     "execution_count": 17,
     "metadata": {},
     "output_type": "execute_result"
    }
   ],
   "source": [
    "cm = bestModel.confusion_matrix(valid)\n",
    "cm = cm.as_data_frame()\n",
    "confusionMatrix = FF.create_table(cm)\n",
    "confusionMatrix.layout.height=300\n",
    "confusionMatrix.layout.width=800\n",
    "confusionMatrix.layout.font.size=17\n",
    "py.iplot(confusionMatrix)"
   ]
  },
  {
   "cell_type": "code",
   "execution_count": 18,
   "metadata": {
    "scrolled": false
   },
   "outputs": [
    {
     "name": "stdout",
     "output_type": "stream",
     "text": [
      "deeplearning prediction progress: |███████████████████████████████████████| 100%\n"
     ]
    }
   ],
   "source": [
    "pBestModel = pd.concat([bestModel.predict(test_data=test).as_data_frame(use_pandas=True).reset_index(drop=True), testDF.reset_index(drop=False)], axis =1)\n"
   ]
  },
  {
   "cell_type": "code",
   "execution_count": 58,
   "metadata": {
    "scrolled": false
   },
   "outputs": [
    {
     "name": "stdout",
     "output_type": "stream",
     "text": [
      "Profit               : $675.2043828431179\n",
      "Random investment    : $-133.21170536246427\n",
      "Best possible outcome: $1516.9113359091752\n"
     ]
    },
    {
     "data": {
      "text/html": [
       "<div>\n",
       "<style scoped>\n",
       "    .dataframe tbody tr th:only-of-type {\n",
       "        vertical-align: middle;\n",
       "    }\n",
       "\n",
       "    .dataframe tbody tr th {\n",
       "        vertical-align: top;\n",
       "    }\n",
       "\n",
       "    .dataframe thead th {\n",
       "        text-align: right;\n",
       "    }\n",
       "</style>\n",
       "<table border=\"1\" class=\"dataframe\">\n",
       "  <thead>\n",
       "    <tr style=\"text-align: right;\">\n",
       "      <th></th>\n",
       "      <th>Date</th>\n",
       "      <th>Close</th>\n",
       "      <th>Close Tomorrow</th>\n",
       "      <th>Close Tomorrow s</th>\n",
       "      <th>predict</th>\n",
       "      <th>profit</th>\n",
       "      <th>Best Possible</th>\n",
       "      <th>Randomly Invest</th>\n",
       "    </tr>\n",
       "  </thead>\n",
       "  <tbody>\n",
       "    <tr>\n",
       "      <th>0</th>\n",
       "      <td>2018-04-02</td>\n",
       "      <td>88.52</td>\n",
       "      <td>89.71</td>\n",
       "      <td>1.0</td>\n",
       "      <td>1.0</td>\n",
       "      <td>134.432897</td>\n",
       "      <td>134.432897</td>\n",
       "      <td>134.432897</td>\n",
       "    </tr>\n",
       "    <tr>\n",
       "      <th>1</th>\n",
       "      <td>2018-04-03</td>\n",
       "      <td>89.71</td>\n",
       "      <td>92.33</td>\n",
       "      <td>1.0</td>\n",
       "      <td>1.0</td>\n",
       "      <td>292.052168</td>\n",
       "      <td>292.052168</td>\n",
       "      <td>0.000000</td>\n",
       "    </tr>\n",
       "    <tr>\n",
       "      <th>2</th>\n",
       "      <td>2018-04-04</td>\n",
       "      <td>92.33</td>\n",
       "      <td>92.38</td>\n",
       "      <td>1.0</td>\n",
       "      <td>-1.0</td>\n",
       "      <td>0.000000</td>\n",
       "      <td>5.415358</td>\n",
       "      <td>0.000000</td>\n",
       "    </tr>\n",
       "    <tr>\n",
       "      <th>3</th>\n",
       "      <td>2018-04-05</td>\n",
       "      <td>92.38</td>\n",
       "      <td>90.23</td>\n",
       "      <td>-1.0</td>\n",
       "      <td>1.0</td>\n",
       "      <td>-232.734358</td>\n",
       "      <td>0.000000</td>\n",
       "      <td>-232.734358</td>\n",
       "    </tr>\n",
       "    <tr>\n",
       "      <th>4</th>\n",
       "      <td>2018-04-06</td>\n",
       "      <td>90.23</td>\n",
       "      <td>90.77</td>\n",
       "      <td>1.0</td>\n",
       "      <td>1.0</td>\n",
       "      <td>59.847058</td>\n",
       "      <td>59.847058</td>\n",
       "      <td>59.847058</td>\n",
       "    </tr>\n",
       "    <tr>\n",
       "      <th>5</th>\n",
       "      <td>2018-04-09</td>\n",
       "      <td>90.77</td>\n",
       "      <td>92.88</td>\n",
       "      <td>1.0</td>\n",
       "      <td>1.0</td>\n",
       "      <td>232.455657</td>\n",
       "      <td>232.455657</td>\n",
       "      <td>232.455657</td>\n",
       "    </tr>\n",
       "    <tr>\n",
       "      <th>6</th>\n",
       "      <td>2018-04-10</td>\n",
       "      <td>92.88</td>\n",
       "      <td>91.86</td>\n",
       "      <td>-1.0</td>\n",
       "      <td>-1.0</td>\n",
       "      <td>0.000000</td>\n",
       "      <td>0.000000</td>\n",
       "      <td>-109.819121</td>\n",
       "    </tr>\n",
       "    <tr>\n",
       "      <th>7</th>\n",
       "      <td>2018-04-11</td>\n",
       "      <td>91.86</td>\n",
       "      <td>93.58</td>\n",
       "      <td>1.0</td>\n",
       "      <td>1.0</td>\n",
       "      <td>187.241454</td>\n",
       "      <td>187.241454</td>\n",
       "      <td>0.000000</td>\n",
       "    </tr>\n",
       "    <tr>\n",
       "      <th>8</th>\n",
       "      <td>2018-04-12</td>\n",
       "      <td>93.58</td>\n",
       "      <td>93.08</td>\n",
       "      <td>-1.0</td>\n",
       "      <td>-1.0</td>\n",
       "      <td>0.000000</td>\n",
       "      <td>0.000000</td>\n",
       "      <td>-53.430220</td>\n",
       "    </tr>\n",
       "    <tr>\n",
       "      <th>9</th>\n",
       "      <td>2018-04-13</td>\n",
       "      <td>93.08</td>\n",
       "      <td>94.17</td>\n",
       "      <td>1.0</td>\n",
       "      <td>-1.0</td>\n",
       "      <td>0.000000</td>\n",
       "      <td>117.103567</td>\n",
       "      <td>0.000000</td>\n",
       "    </tr>\n",
       "    <tr>\n",
       "      <th>10</th>\n",
       "      <td>2018-04-16</td>\n",
       "      <td>94.17</td>\n",
       "      <td>96.07</td>\n",
       "      <td>1.0</td>\n",
       "      <td>1.0</td>\n",
       "      <td>201.762769</td>\n",
       "      <td>201.762769</td>\n",
       "      <td>0.000000</td>\n",
       "    </tr>\n",
       "    <tr>\n",
       "      <th>11</th>\n",
       "      <td>2018-04-17</td>\n",
       "      <td>96.07</td>\n",
       "      <td>96.44</td>\n",
       "      <td>1.0</td>\n",
       "      <td>-1.0</td>\n",
       "      <td>0.000000</td>\n",
       "      <td>38.513584</td>\n",
       "      <td>38.513584</td>\n",
       "    </tr>\n",
       "    <tr>\n",
       "      <th>12</th>\n",
       "      <td>2018-04-18</td>\n",
       "      <td>96.44</td>\n",
       "      <td>96.11</td>\n",
       "      <td>-1.0</td>\n",
       "      <td>1.0</td>\n",
       "      <td>-34.218167</td>\n",
       "      <td>0.000000</td>\n",
       "      <td>0.000000</td>\n",
       "    </tr>\n",
       "    <tr>\n",
       "      <th>13</th>\n",
       "      <td>2018-04-19</td>\n",
       "      <td>96.11</td>\n",
       "      <td>95.00</td>\n",
       "      <td>-1.0</td>\n",
       "      <td>1.0</td>\n",
       "      <td>-115.492665</td>\n",
       "      <td>0.000000</td>\n",
       "      <td>-115.492665</td>\n",
       "    </tr>\n",
       "    <tr>\n",
       "      <th>14</th>\n",
       "      <td>2018-04-20</td>\n",
       "      <td>95.00</td>\n",
       "      <td>95.35</td>\n",
       "      <td>1.0</td>\n",
       "      <td>1.0</td>\n",
       "      <td>36.842105</td>\n",
       "      <td>36.842105</td>\n",
       "      <td>0.000000</td>\n",
       "    </tr>\n",
       "    <tr>\n",
       "      <th>15</th>\n",
       "      <td>2018-04-23</td>\n",
       "      <td>95.35</td>\n",
       "      <td>93.12</td>\n",
       "      <td>-1.0</td>\n",
       "      <td>-1.0</td>\n",
       "      <td>0.000000</td>\n",
       "      <td>0.000000</td>\n",
       "      <td>0.000000</td>\n",
       "    </tr>\n",
       "    <tr>\n",
       "      <th>16</th>\n",
       "      <td>2018-04-24</td>\n",
       "      <td>93.12</td>\n",
       "      <td>92.31</td>\n",
       "      <td>-1.0</td>\n",
       "      <td>1.0</td>\n",
       "      <td>-86.984536</td>\n",
       "      <td>0.000000</td>\n",
       "      <td>-86.984536</td>\n",
       "    </tr>\n",
       "    <tr>\n",
       "      <th>17</th>\n",
       "      <td>2018-04-25</td>\n",
       "      <td>92.31</td>\n",
       "      <td>94.26</td>\n",
       "      <td>1.0</td>\n",
       "      <td>-1.0</td>\n",
       "      <td>0.000000</td>\n",
       "      <td>211.244719</td>\n",
       "      <td>0.000000</td>\n",
       "    </tr>\n",
       "    <tr>\n",
       "      <th>18</th>\n",
       "      <td>2018-04-26</td>\n",
       "      <td>94.26</td>\n",
       "      <td>NaN</td>\n",
       "      <td>NaN</td>\n",
       "      <td>-1.0</td>\n",
       "      <td>0.000000</td>\n",
       "      <td>0.000000</td>\n",
       "      <td>0.000000</td>\n",
       "    </tr>\n",
       "  </tbody>\n",
       "</table>\n",
       "</div>"
      ],
      "text/plain": [
       "         Date  Close  Close Tomorrow  Close Tomorrow s  predict      profit  Best Possible  Randomly Invest\n",
       "0  2018-04-02  88.52           89.71               1.0      1.0  134.432897     134.432897       134.432897\n",
       "1  2018-04-03  89.71           92.33               1.0      1.0  292.052168     292.052168         0.000000\n",
       "2  2018-04-04  92.33           92.38               1.0     -1.0    0.000000       5.415358         0.000000\n",
       "3  2018-04-05  92.38           90.23              -1.0      1.0 -232.734358       0.000000      -232.734358\n",
       "4  2018-04-06  90.23           90.77               1.0      1.0   59.847058      59.847058        59.847058\n",
       "5  2018-04-09  90.77           92.88               1.0      1.0  232.455657     232.455657       232.455657\n",
       "6  2018-04-10  92.88           91.86              -1.0     -1.0    0.000000       0.000000      -109.819121\n",
       "7  2018-04-11  91.86           93.58               1.0      1.0  187.241454     187.241454         0.000000\n",
       "8  2018-04-12  93.58           93.08              -1.0     -1.0    0.000000       0.000000       -53.430220\n",
       "9  2018-04-13  93.08           94.17               1.0     -1.0    0.000000     117.103567         0.000000\n",
       "10 2018-04-16  94.17           96.07               1.0      1.0  201.762769     201.762769         0.000000\n",
       "11 2018-04-17  96.07           96.44               1.0     -1.0    0.000000      38.513584        38.513584\n",
       "12 2018-04-18  96.44           96.11              -1.0      1.0  -34.218167       0.000000         0.000000\n",
       "13 2018-04-19  96.11           95.00              -1.0      1.0 -115.492665       0.000000      -115.492665\n",
       "14 2018-04-20  95.00           95.35               1.0      1.0   36.842105      36.842105         0.000000\n",
       "15 2018-04-23  95.35           93.12              -1.0     -1.0    0.000000       0.000000         0.000000\n",
       "16 2018-04-24  93.12           92.31              -1.0      1.0  -86.984536       0.000000       -86.984536\n",
       "17 2018-04-25  92.31           94.26               1.0     -1.0    0.000000     211.244719         0.000000\n",
       "18 2018-04-26  94.26             NaN               NaN     -1.0    0.000000       0.000000         0.000000"
      ]
     },
     "execution_count": 58,
     "metadata": {},
     "output_type": "execute_result"
    }
   ],
   "source": [
    "prices = df.loc[df['Date'] > split_test]\n",
    "prices = prices.loc[:,['Date','Close','Close Tomorrow','Close Tomorrow s']]\n",
    "profit = pBestModel.loc[:,['predict']]\n",
    "profit = pd.concat([prices.reset_index(drop=True), profit.reset_index(drop=True)], axis =1)\n",
    "profit['predict'] = profit['predict'].astype(np.float64)\n",
    "\n",
    "profit['profit'] = invest\n",
    "\n",
    "profit['Best Possible'] = profit.apply(lambda row: ((row['profit'] / row['Close'])*row['Close Tomorrow'])-row['profit'] if row['Close Tomorrow s'] > 0 else 0, axis=1)\n",
    "\n",
    "profit['Randomly Invest'] = profit.apply(lambda row: ((row['profit'] / row['Close'])*row['Close Tomorrow'])-row['profit'] if random.randint(1,1000) > random.randint(1,1000) else 0, axis=1)\n",
    "profit['profit'] = profit.apply(lambda row: ((row['profit'] / row['Close'])*row['Close Tomorrow'])-row['profit'] if row['predict'] > 0 else 0, axis=1)\n",
    "\n",
    "#profit.profit.sum()\n",
    "#profit.groupby('predict').sum() \n",
    "print \"Profit               : $\" + str(profit.profit.sum())\n",
    "print \"Random investment    : $\" + str(profit['Randomly Invest'].sum())\n",
    "print \"Best possible outcome: $\" + str(profit['Best Possible'].sum())\n",
    "\n",
    "profit\n",
    "\n"
   ]
  },
  {
   "cell_type": "code",
   "execution_count": null,
   "metadata": {},
   "outputs": [],
   "source": []
  }
 ],
 "metadata": {
  "kernelspec": {
   "display_name": "Python 2",
   "language": "python",
   "name": "python2"
  },
  "language_info": {
   "codemirror_mode": {
    "name": "ipython",
    "version": 2
   },
   "file_extension": ".py",
   "mimetype": "text/x-python",
   "name": "python",
   "nbconvert_exporter": "python",
   "pygments_lexer": "ipython2",
   "version": "2.7.12"
  }
 },
 "nbformat": 4,
 "nbformat_minor": 2
}
